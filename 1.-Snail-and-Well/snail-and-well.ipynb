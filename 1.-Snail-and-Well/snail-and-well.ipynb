{
 "cells": [
  {
   "cell_type": "markdown",
   "metadata": {},
   "source": [
    "<img src=\"https://bit.ly/2VnXWr2\" width=\"100\" align=\"left\">"
   ]
  },
  {
   "cell_type": "markdown",
   "metadata": {},
   "source": [
    "# The Snail and the Well\n",
    "\n",
    "A snail falls at the bottom of a 125 cm well. Each day the snail rises 30 cm. But at night, while sleeping, slides 20 cm because the walls are wet. How many days does it take for the snail to escape the well?\n",
    "\n",
    "**Hint**: The snail gets out of the well when it surpasses the 125cm of height.\n",
    "\n",
    "## Tools\n",
    "\n",
    "1. Loop: **while**\n",
    "2. Conditional statements: **if-else**\n",
    "3. Function: **print()**\n",
    "\n",
    "## Tasks\n",
    "\n",
    "#### 1. Assign the challenge data to variables with representative names: `well_height`, `daily_distance`, `nightly_distance` and `snail_position`."
   ]
  },
  {
   "cell_type": "code",
   "execution_count": 7,
   "metadata": {},
   "outputs": [],
   "source": [
    "pared = 125\n",
    "dist_dia = 30\n",
    "dist_noche = 20\n",
    "distancia_recorrida = 0"
   ]
  },
  {
   "cell_type": "markdown",
   "metadata": {},
   "source": [
    "#### 2. Create a variable `days` to keep count of the days that pass until the snail escapes the well. "
   ]
  },
  {
   "cell_type": "code",
   "execution_count": 8,
   "metadata": {},
   "outputs": [],
   "source": [
    "dia = 1"
   ]
  },
  {
   "cell_type": "markdown",
   "metadata": {},
   "source": [
    "#### 3. Find the solution to the challenge using the variables defined above. "
   ]
  },
  {
   "cell_type": "code",
   "execution_count": 9,
   "metadata": {},
   "outputs": [
    {
     "name": "stdout",
     "output_type": "stream",
     "text": [
      "Vamos en camino\n",
      "Dia  1  aun no salimos, recorrimos:  10\n",
      "Dia  2  aun no salimos, recorrimos:  20\n",
      "Dia  3  aun no salimos, recorrimos:  30\n",
      "Dia  4  aun no salimos, recorrimos:  40\n",
      "Dia  5  aun no salimos, recorrimos:  50\n",
      "Dia  6  aun no salimos, recorrimos:  60\n",
      "Dia  7  aun no salimos, recorrimos:  70\n",
      "Dia  8  aun no salimos, recorrimos:  80\n",
      "Dia  9  aun no salimos, recorrimos:  90\n",
      "Dia  10  aun no salimos, recorrimos:  100\n",
      "Dia  11  aun no salimos, recorrimos:  110\n",
      "Dia  12  aun no salimos, recorrimos:  120\n",
      "Salimos en el dia: 13\n"
     ]
    }
   ],
   "source": [
    "print(\"Vamos en camino\")\n",
    "distancia_recorrida = dist_dia - dist_noche\n",
    "\n",
    "while distancia_recorrida < pared:\n",
    "    print(\"Dia \",str(dia),\" aun no salimos, recorrimos: \",distancia_recorrida)\n",
    "    dia += 1\n",
    "    if(distancia_recorrida < pared):\n",
    "        distancia_recorrida = (dist_dia-dist_noche)*dia\n",
    "    \n",
    "print(\"Salimos en el dia:\",str(dia))"
   ]
  },
  {
   "cell_type": "markdown",
   "metadata": {},
   "source": [
    "#### 4. Print the solution."
   ]
  },
  {
   "cell_type": "code",
   "execution_count": 10,
   "metadata": {},
   "outputs": [
    {
     "name": "stdout",
     "output_type": "stream",
     "text": [
      "13\n"
     ]
    }
   ],
   "source": [
    "print(dia)"
   ]
  },
  {
   "cell_type": "markdown",
   "metadata": {},
   "source": [
    "## Bonus\n",
    "The distance traveled by the snail each day is now defined by a list.\n",
    "```\n",
    "advance_cm = [30, 21, 33, 77, 44, 45, 23, 45, 12, 34, 55]\n",
    "```\n",
    "On the first day, the snail rises 30cm but during the night it slides 20cm. On the second day, the snail rises 21cm but during the night it slides 20cm, and so on. \n",
    "\n",
    "#### 1. How many days does it take for the snail to escape the well?\n",
    "Follow the same guidelines as in the previous challenge.\n",
    "\n",
    "**Hint**: Remember that the snail gets out of the well when it surpasses the 125cm of height."
   ]
  },
  {
   "cell_type": "code",
   "execution_count": 11,
   "metadata": {},
   "outputs": [
    {
     "name": "stdout",
     "output_type": "stream",
     "text": [
      "Dias para salir: 6\n"
     ]
    }
   ],
   "source": [
    "dist_dia = [30, 21, 33, 77, 44, 45, 23, 45, 12, 34, 55]\n",
    "dist_noche = 20\n",
    "distancia_recorrida = 0\n",
    "pared = 125\n",
    "\n",
    "dia = 0\n",
    "dia_salida_lista = []\n",
    "dia_lista = []\n",
    "\n",
    "for i in dist_dia:\n",
    "    distancia_recorrida += i - dist_noche\n",
    "    dia +=1\n",
    "    dia_lista.append(dia)\n",
    "    if distancia_recorrida > pared:\n",
    "        dia_salida_lista.append(dia)\n",
    "\n",
    "print(\"Dias para salir:\",dia_salida_lista[0])\n"
   ]
  },
  {
   "cell_type": "markdown",
   "metadata": {},
   "source": [
    "#### 2. What is its maximum displacement in one day? And its minimum? Calculate the displacement using only the travel distance of the days used to get out of the well. \n",
    "**Hint**: Remember that displacement means the total distance risen taking into account that the snail slides at night.  "
   ]
  },
  {
   "cell_type": "code",
   "execution_count": 12,
   "metadata": {},
   "outputs": [
    {
     "name": "stdout",
     "output_type": "stream",
     "text": [
      "El maximo es: 57\n",
      "El minimo es: 1\n"
     ]
    }
   ],
   "source": [
    "dia_salida = dia_salida_lista[0]\n",
    "dist_neta =[]\n",
    "\n",
    "dist_dia = [30, 21, 33, 77, 44, 45, 23, 45, 12, 34, 55]\n",
    "dist_noche = 20\n",
    "distancia_recorrida = 0\n",
    "\n",
    "\n",
    "for i in dist_dia[:dia_salida]:\n",
    "    distancia_recorrida = i - dist_noche\n",
    "    dist_neta.append(distancia_recorrida)\n",
    "    \n",
    "maximo =max(dist_neta)\n",
    "minimo =min(dist_neta)\n",
    "\n",
    "print(\"El maximo es:\",maximo)\n",
    "print(\"El minimo es:\",minimo)"
   ]
  },
  {
   "cell_type": "markdown",
   "metadata": {},
   "source": [
    "#### 3. What is its average progress? Take into account the snail slides at night."
   ]
  },
  {
   "cell_type": "code",
   "execution_count": 13,
   "metadata": {},
   "outputs": [
    {
     "name": "stdout",
     "output_type": "stream",
     "text": [
      "El promedio es: 21.666666666666668\n"
     ]
    }
   ],
   "source": [
    "promedio = sum(dist_neta)/len(dist_neta)\n",
    "print(\"El promedio es:\",promedio)"
   ]
  },
  {
   "cell_type": "markdown",
   "metadata": {},
   "source": [
    "#### 4. What is the standard deviation of its displacement? Take into account the snail slides at night."
   ]
  },
  {
   "cell_type": "code",
   "execution_count": 14,
   "metadata": {},
   "outputs": [
    {
     "name": "stdout",
     "output_type": "stream",
     "text": [
      "La Desviacion estandar es: 19.510680835549195\n"
     ]
    }
   ],
   "source": [
    "import statistics as std\n",
    "desv_estadar= std.stdev(dist_neta)\n",
    "print(\"La Desviacion estandar es:\",desv_estadar)"
   ]
  },
  {
   "cell_type": "code",
   "execution_count": null,
   "metadata": {},
   "outputs": [],
   "source": []
  }
 ],
 "metadata": {
  "kernelspec": {
   "display_name": "Python 3",
   "language": "python",
   "name": "python3"
  },
  "language_info": {
   "codemirror_mode": {
    "name": "ipython",
    "version": 3
   },
   "file_extension": ".py",
   "mimetype": "text/x-python",
   "name": "python",
   "nbconvert_exporter": "python",
   "pygments_lexer": "ipython3",
   "version": "3.7.6"
  },
  "toc": {
   "base_numbering": 1,
   "nav_menu": {},
   "number_sections": true,
   "sideBar": true,
   "skip_h1_title": false,
   "title_cell": "Table of Contents",
   "title_sidebar": "Contents",
   "toc_cell": false,
   "toc_position": {},
   "toc_section_display": true,
   "toc_window_display": false
  }
 },
 "nbformat": 4,
 "nbformat_minor": 2
}
