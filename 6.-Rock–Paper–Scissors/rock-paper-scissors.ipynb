{
 "cells": [
  {
   "cell_type": "markdown",
   "metadata": {},
   "source": [
    "<img src=\"https://bit.ly/2VnXWr2\" width=\"100\" align=\"left\">"
   ]
  },
  {
   "cell_type": "markdown",
   "metadata": {},
   "source": [
    "# Rock, Paper & Scissors\n",
    "\n",
    "Let's play the famous game against our computer. You can check the rules [here](https://en.wikipedia.org/wiki/Rock%E2%80%93paper%E2%80%93scissors). \n",
    "\n",
    "## Task\n",
    "Create a program that imitates the playability of the well known game of rock, paper, scissors. Follow the guidelines provided.\n",
    "\n",
    "## Tools\n",
    "1. Loop: **for/while**\n",
    "2. Functions: **input(), print()...**\n",
    "3. Conditional statements: **if, elif, else**\n",
    "4. Definition of functions. Modular programming\n",
    "5. Import modules\n",
    "\n",
    "**To solve this challenge, the use of functions is recommended.**\n",
    "\n",
    "#### 1. Import the choice function of the random module."
   ]
  },
  {
   "cell_type": "code",
   "execution_count": null,
   "metadata": {},
   "outputs": [],
   "source": [
    "from random import choice"
   ]
  },
  {
   "cell_type": "markdown",
   "metadata": {},
   "source": [
    "#### 2. Create a list that includes the 3 possible gesture options of the game: 'rock', 'paper' or 'scissors'. Store the list in a variable called `gestures`."
   ]
  },
  {
   "cell_type": "code",
   "execution_count": null,
   "metadata": {},
   "outputs": [],
   "source": [
    "gestures = ['piedra','papel','tijeras']"
   ]
  },
  {
   "cell_type": "markdown",
   "metadata": {},
   "source": [
    "#### 3. Create a variable called `n_rounds` to store the maximum number of rounds to play in a game. \n",
    "Remember that the number of rounds must be odd: 1, 3, 5, ..."
   ]
  },
  {
   "cell_type": "code",
   "execution_count": null,
   "metadata": {},
   "outputs": [],
   "source": [
    "n_rondas =7"
   ]
  },
  {
   "cell_type": "markdown",
   "metadata": {},
   "source": [
    "#### 4. Create a variable called `rounds_to_win` to store the number of rounds that a player must win to win the game.\n",
    "**Hint**: the value stored in `rounds_to_win` depends on the value of `n_rounds`. "
   ]
  },
  {
   "cell_type": "code",
   "execution_count": null,
   "metadata": {},
   "outputs": [],
   "source": [
    "rondas_p_ganar = int((n_rondas / 2)+.5)\n",
    "rondas_p_ganar"
   ]
  },
  {
   "cell_type": "markdown",
   "metadata": {},
   "source": [
    "#### 5. Create two variables to store the number of rounds that the computer and the player have won. Call these variables `cpu_score` and `player_score`."
   ]
  },
  {
   "cell_type": "code",
   "execution_count": null,
   "metadata": {},
   "outputs": [],
   "source": [
    "cpu_score = 0\n",
    "player_score = 0\n",
    "n_partida = 0"
   ]
  },
  {
   "cell_type": "markdown",
   "metadata": {},
   "source": [
    "#### 6. Define a function that randomly returns one of the 3 gesture options.\n",
    "You will use this function to simulate the gesture choice of the computer. "
   ]
  },
  {
   "cell_type": "code",
   "execution_count": null,
   "metadata": {},
   "outputs": [],
   "source": [
    "def seleccion_cpu():\n",
    "    for i in range(1):\n",
    "        cpu_option = (choice(gestures))\n",
    "        \n",
    "    return cpu_option\n",
    "\n",
    "print(seleccion_cpu())"
   ]
  },
  {
   "cell_type": "markdown",
   "metadata": {},
   "source": [
    "#### 7. Define a function that asks the player which is the gesture he or she wants to show: 'rock', 'paper' or 'scissors'.\n",
    "The player should only be allowed to choose one of the 3 gesture options. If the player's choice is not rock, paper or scissors, keep asking until it is."
   ]
  },
  {
   "cell_type": "code",
   "execution_count": null,
   "metadata": {},
   "outputs": [],
   "source": [
    "def seleccion_jugador():\n",
    "    player_option = input(\"Seleccione una opcion, piedra, papel o tijeras: \")\n",
    "\n",
    "    while player_option not in gestures:\n",
    "        print(\"Su seleccion no es valida, intente de nuevo.\")\n",
    "        print(\"Valide que su opción este bien escita.\")\n",
    "        player_option = input(\"Seleccione una opcion, piedra, papel o tijeras: \")\n",
    "    \n",
    "    return player_option\n",
    "\n",
    "print(seleccion_jugador())"
   ]
  },
  {
   "cell_type": "markdown",
   "metadata": {},
   "source": [
    "#### 8. Define a function that checks who won a round. \n",
    "The function should return 0 if there is a tie, 1 if the computer wins and 2 if the player wins."
   ]
  },
  {
   "cell_type": "code",
   "execution_count": null,
   "metadata": {},
   "outputs": [],
   "source": [
    "#piedra, papel o tijeras\n",
    "\n",
    "def reglas_de_juego(player_option, cpu_option):\n",
    "    \n",
    "    resultado_partida = 0\n",
    "    \n",
    "    #Empate\n",
    "    if player_option == cpu_option:\n",
    "        resultado_partida = 0\n",
    "    #Piedra\n",
    "    elif player_option == \"piedra\":\n",
    "        if cpu_option == \"papel\":\n",
    "            resultado_partida = 1\n",
    "        else:\n",
    "            resultado_partida = 2\n",
    "    #Papel\n",
    "    elif player_option == \"papel\":\n",
    "        if cpu_option == \"tijeras\":\n",
    "            resultado_partida = 1\n",
    "        else:\n",
    "            resultado_partida = 2    \n",
    "    #Tijeras\n",
    "    elif player_option == \"tijeras\":\n",
    "        if cpu_option == \"piedra\":\n",
    "            resultado_partida = 1\n",
    "        else:\n",
    "            resultado_partida = 2    \n",
    "\n",
    "    return resultado_partida\n",
    "\n",
    "print(reglas_de_juego(seleccion_jugador(),seleccion_cpu()))"
   ]
  },
  {
   "cell_type": "markdown",
   "metadata": {},
   "source": [
    "#### 9. Define a function that prints the choice of the computer, the choice of the player and a message that announces who won the current round. \n",
    "You should also use this function to update the variables that count the number of rounds that the computer and the player have won. The score of the winner increases by one point. If there is a tie, the score does not increase."
   ]
  },
  {
   "cell_type": "code",
   "execution_count": null,
   "metadata": {},
   "outputs": [],
   "source": [
    "def variables_juego(resultado_partida):\n",
    "    \n",
    "    global cpu_score\n",
    "    global player_score\n",
    "    global n_partida\n",
    "    \n",
    "    if resultado_partida == 0:\n",
    "        n_partida +=1\n",
    "        estatus_partida = \"Empate\"\n",
    "    elif resultado_partida == 1:\n",
    "        cpu_score +=1\n",
    "        n_partida +=1\n",
    "        estatus_partida = \"Compu Gana\"\n",
    "    elif resultado_partida ==2:\n",
    "        player_score +=1\n",
    "        n_partida +=1\n",
    "        estatus_partida = \"Usuario Gana\"\n",
    "    else:\n",
    "        cpu_score = 0\n",
    "        player_score = 0\n",
    "    \n",
    "    print(\"-----------------------------------------------\")\n",
    "    print(\"                                               \")\n",
    "    print(\"Vamos en la partida no:\",n_partida)\n",
    "    print(\"El resultado de la partida es:\",estatus_partida)\n",
    "    print(\"Puntaje de la Compu:\",cpu_score)\n",
    "    print(\"Puntaje del usuario es:\",player_score)\n",
    "    \n",
    "    return cpu_score,player_score,estatus_partida,n_partida\n",
    "\n",
    "print(variables_juego(reglas_de_juego(seleccion_jugador(),seleccion_cpu())))"
   ]
  },
  {
   "cell_type": "markdown",
   "metadata": {},
   "source": [
    "#### 10. Now it's time to code the execution of the game using the functions and variables you defined above. \n",
    "\n",
    "First, create a loop structure that repeats while no player reaches the minimum score necessary to win and the number of rounds is less than the maximum number of rounds to play in a game.  \n",
    "\n",
    "Inside the loop, use the functions and variables above to create the execution of a round: ask for the player's choice, generate the random choice of the computer, show the round results, update the scores, etc. "
   ]
  },
  {
   "cell_type": "code",
   "execution_count": null,
   "metadata": {},
   "outputs": [],
   "source": [
    "  \n",
    "while n_partida != n_rondas:\n",
    "    #llamamos la funcion de la opcion de la computadora\n",
    "    cpu = seleccion_cpu()\n",
    "    #Llamamos la funcion de la opcion de la computadora\n",
    "    jugador = seleccion_jugador()\n",
    "    #Llamamos la funcion de lar reglas de juego\n",
    "    juego = reglas_de_juego(jugador,cpu)\n",
    "    #llamamos las variables del juego\n",
    "    variables_juego(juego)\n",
    "    if n_partida >= n_rondas:\n",
    "        print(\"El juego ah acabado\")\n",
    "        if cpu_score>player_score:\n",
    "            print(\"Computadora ah ganado\")\n",
    "            y_n = input(\"Desea un juego nuevo?: y/n\")\n",
    "            if y_n ==\"y\":\n",
    "                n_partida = 0            \n",
    "            else:\n",
    "                break\n",
    "        else:\n",
    "            print(\"Jugador ah ganado\")\n",
    "            y_n = input(\"Desea un juego nuevo?: y/n\")\n",
    "            if y_n ==\"y\":\n",
    "                n_partida = 0            \n",
    "            else:\n",
    "                break\n",
    "    \n"
   ]
  },
  {
   "cell_type": "markdown",
   "metadata": {},
   "source": [
    "#### 11. Print the winner of the game based on who won more rounds.\n",
    "Remember that the game might be tied. "
   ]
  },
  {
   "cell_type": "code",
   "execution_count": null,
   "metadata": {},
   "outputs": [],
   "source": [
    "\n"
   ]
  },
  {
   "cell_type": "markdown",
   "metadata": {},
   "source": [
    "# Bonus: Rock, Paper, Scissors, Lizard & Spock\n",
    "![](images/rpsls.jpg)\n",
    "\n",
    "In this challenge, you need to improve the previous game by adding two new options. To know more about the rules of the improved version of rock, paper, scissors, check this [link](http://www.samkass.com/theories/RPSSL.html). \n",
    "\n",
    "In addition, you will also need to improve how the game interacts with the player: the number of rounds to play, which must be an odd number, will be requested to the user until a valid number is entered. Define a new function to make that request.\n",
    "\n",
    "**Hint**: Try to reuse the code that you already coded in the previous challenge. If your code is efficient, this bonus will only consist of simple modifications to the original game."
   ]
  },
  {
   "cell_type": "code",
   "execution_count": 2,
   "metadata": {
    "scrolled": true
   },
   "outputs": [
    {
     "name": "stdout",
     "output_type": "stream",
     "text": [
      "Elija el numero de rondas a jugar (numero impar):3\n",
      "Seleccione una opcion, piedra, papel, tijeras, lagarto, Spock: Spock\n",
      "-----------------------------------------------\n",
      "                                               \n",
      "Vamos en la partida no: 1\n",
      "El resultado de la partida es: Compu Gana\n",
      "Puntaje de la Compu: 1\n",
      "Puntaje del usuario es: 0\n",
      "Seleccione una opcion, piedra, papel, tijeras, lagarto, Spock: Spock\n",
      "-----------------------------------------------\n",
      "                                               \n",
      "Vamos en la partida no: 2\n",
      "El resultado de la partida es: Usuario Gana\n",
      "Puntaje de la Compu: 1\n",
      "Puntaje del usuario es: 1\n",
      "Seleccione una opcion, piedra, papel, tijeras, lagarto, Spock: Piedra\n",
      "Su seleccion no es valida, intente de nuevo.\n",
      "Valide que su opción este bien escita.\n",
      "Seleccione una opcion, piedra, papel, tijeras, lagarto, Spock: piedra\n",
      "-----------------------------------------------\n",
      "                                               \n",
      "Vamos en la partida no: 3\n",
      "El resultado de la partida es: Usuario Gana\n",
      "Puntaje de la Compu: 1\n",
      "Puntaje del usuario es: 2\n",
      "El juego ah acabado\n",
      "Jugador ah ganado\n",
      "Desea un juego nuevo?: y/nn\n"
     ]
    }
   ],
   "source": [
    "from random import choice\n",
    "\n",
    "gestures = ['piedra','papel','tijeras','lagarto','Spock']\n",
    "n_rondas = int(input(\"Elija el numero de rondas a jugar (numero impar):\"))\n",
    "rondas_p_ganar = int((n_rondas / 2)+.5)\n",
    "cpu_score = 0\n",
    "player_score = 0\n",
    "n_partida = 0\n",
    "\n",
    "def seleccion_cpu():\n",
    "    for i in range(1):\n",
    "        cpu_option = (choice(gestures))\n",
    "        \n",
    "    return cpu_option\n",
    "\n",
    "\n",
    "def seleccion_jugador():\n",
    "    player_option = input(\"Seleccione una opcion, piedra, papel, tijeras, lagarto, Spock: \")\n",
    "\n",
    "    while player_option not in gestures:\n",
    "        print(\"Su seleccion no es valida, intente de nuevo.\")\n",
    "        print(\"Valide que su opción este bien escita.\")\n",
    "        player_option = input(\"Seleccione una opcion, piedra, papel, tijeras, lagarto, Spock: \")\n",
    "    \n",
    "    return player_option\n",
    "\n",
    "\n",
    "#piedra, papel o tijeras, lagarto,Spock\n",
    "#1 gana la computadora\n",
    "#2 gana el jugador\n",
    "\n",
    "def reglas_de_juego(player_option, cpu_option):\n",
    "    \n",
    "    resultado_partida = 0\n",
    "    #Empate\n",
    "    if player_option == cpu_option:\n",
    "        resultado_partida = 0\n",
    "    #Piedra\n",
    "    elif player_option == \"piedra\":\n",
    "        if cpu_option == \"papel\":\n",
    "            resultado_partida = 1\n",
    "        elif cpu_option== \"lagarto\":\n",
    "            resultado_partida = 2\n",
    "        elif cpu_option == \"Spock\":\n",
    "            resultado_partida = 1\n",
    "        else:\n",
    "            resultado_partida = 2\n",
    "    #Papel\n",
    "    elif player_option == \"papel\":\n",
    "        if cpu_option == \"tijeras\":\n",
    "            resultado_partida = 1\n",
    "        elif cpu_option == \"lagarto\":\n",
    "            resultado_partida = 1\n",
    "        elif cpu_option == \"Spock\":\n",
    "            resultado_partida = 2\n",
    "        else:\n",
    "            resultado_partida = 2    \n",
    "    #Tijeras\n",
    "    elif player_option == \"tijeras\":\n",
    "        if cpu_option == \"piedra\":\n",
    "            resultado_partida = 1\n",
    "        elif cpu_option == \"Spock\":\n",
    "            resultado_partida = 1\n",
    "        elif cpu_option == \"lagarto\":\n",
    "            resultado_partida = 2\n",
    "        else:\n",
    "            resultado_partida = 2    \n",
    "    #Lagarto\n",
    "    elif player_option == \"lagarto\":\n",
    "        if cpu_option == \"piedra\":\n",
    "            resultado_partida = 1\n",
    "        elif cpu_option == \"tijeras\":\n",
    "            resultado_partida = 1\n",
    "        elif cpu_option == \"Spock\":\n",
    "            resultado_partida = 2\n",
    "        else:\n",
    "            resultado_partida = 2    \n",
    "    #Spock\n",
    "    elif player_option == \"Spock\":\n",
    "        if cpu_option == \"lagarto\":\n",
    "            resultado_partida = 1\n",
    "        elif cpu_option == \"papel\":\n",
    "            resultado_partida = 1\n",
    "        elif cpu_option == \"piedra\":\n",
    "            resultado_partida = 2\n",
    "        else:\n",
    "            resultado_partida = 2    \n",
    "    \n",
    "    return resultado_partida\n",
    "\n",
    "\n",
    "def variables_juego(resultado_partida):\n",
    "    \n",
    "    global cpu_score\n",
    "    global player_score\n",
    "    global n_partida\n",
    "    \n",
    "    if resultado_partida == 0:\n",
    "        n_partida +=1\n",
    "        estatus_partida = \"Empate\"\n",
    "    elif resultado_partida == 1:\n",
    "        cpu_score +=1\n",
    "        n_partida +=1\n",
    "        estatus_partida = \"Compu Gana\"\n",
    "    elif resultado_partida ==2:\n",
    "        player_score +=1\n",
    "        n_partida +=1\n",
    "        estatus_partida = \"Usuario Gana\"\n",
    "    else:\n",
    "        cpu_score = 0\n",
    "        player_score = 0\n",
    "    \n",
    "    print(\"-----------------------------------------------\")\n",
    "    print(\"                                               \")\n",
    "    print(\"Vamos en la partida no:\",n_partida)\n",
    "    print(\"El resultado de la partida es:\",estatus_partida)\n",
    "    print(\"Puntaje de la Compu:\",cpu_score)\n",
    "    print(\"Puntaje del usuario es:\",player_score)\n",
    "    \n",
    "    return cpu_score,player_score,estatus_partida,n_partida\n",
    "\n",
    "\n",
    " \n",
    "while n_partida != n_rondas:\n",
    "    #llamamos la funcion de la opcion de la computadora\n",
    "    cpu = seleccion_cpu()\n",
    "    #Llamamos la funcion de la opcion de la computadora\n",
    "    jugador = seleccion_jugador()\n",
    "    #Llamamos la funcion de lar reglas de juego\n",
    "    juego = reglas_de_juego(jugador,cpu)\n",
    "    #llamamos las variables del juego\n",
    "    variables_juego(juego)\n",
    "    if n_partida >= n_rondas:\n",
    "        print(\"-----------------------------------------------\")\n",
    "        print(\"                                               \")\n",
    "        print(\"El juego ah acabado\")\n",
    "        if cpu_score>player_score:\n",
    "            print(\"Computadora ah ganado\")\n",
    "            y_n = input(\"Desea un juego nuevo?: y/n\")\n",
    "            if y_n ==\"y\":\n",
    "                n_partida = 0            \n",
    "            else:\n",
    "                break\n",
    "        else:\n",
    "            print(\"Jugador ah ganado\")\n",
    "            y_n = input(\"Desea un juego nuevo?: y/n\")\n",
    "            if y_n ==\"y\":\n",
    "                n_partida = 0            \n",
    "            else:\n",
    "                break\n",
    "    \n"
   ]
  },
  {
   "cell_type": "code",
   "execution_count": null,
   "metadata": {},
   "outputs": [],
   "source": []
  }
 ],
 "metadata": {
  "kernelspec": {
   "display_name": "Python 3",
   "language": "python",
   "name": "python3"
  },
  "language_info": {
   "codemirror_mode": {
    "name": "ipython",
    "version": 3
   },
   "file_extension": ".py",
   "mimetype": "text/x-python",
   "name": "python",
   "nbconvert_exporter": "python",
   "pygments_lexer": "ipython3",
   "version": "3.7.6"
  },
  "toc": {
   "base_numbering": 1,
   "nav_menu": {},
   "number_sections": true,
   "sideBar": true,
   "skip_h1_title": false,
   "title_cell": "Table of Contents",
   "title_sidebar": "Contents",
   "toc_cell": false,
   "toc_position": {},
   "toc_section_display": true,
   "toc_window_display": false
  }
 },
 "nbformat": 4,
 "nbformat_minor": 2
}
