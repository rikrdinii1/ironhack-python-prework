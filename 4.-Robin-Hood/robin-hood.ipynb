{
 "cells": [
  {
   "cell_type": "markdown",
   "metadata": {},
   "source": [
    "<img src=\"https://bit.ly/2VnXWr2\" width=\"100\" align=\"left\"/>"
   ]
  },
  {
   "cell_type": "markdown",
   "metadata": {},
   "source": [
    "# Robin Hood\n",
    "Robin Hood has entered a competition to win the archery contest in Sherwood. With his bow and arrows, he needs to shoot on a target and try to hit as close as possible to the center.\n",
    "\n",
    "![](images/arrows.jpg)\n",
    "\n",
    "## Context\n",
    "In this challenge, the landing position of arrows shot by archers in the competition will be represented using 2-dimensional coordinates. \n",
    "\n",
    "In the 2-dimensional space, a point can be defined by a pair of values that correspond to the horizontal coordinate (x) and the vertical coordinate (y). For example, in our case, an arrow that hits the center of the archery target will land in position (0, 0) on the coordinate axes. \n",
    "\n",
    "The space can be divided into 4 zones (quadrants): Q1, Q2, Q3, Q4. If a point is in Q1, both its x coordinate and y coordinate are positive. Any point with a null x or y coordinate is considered to not belong to any quadrant. \n",
    "\n",
    "If you want to know more about the cartesian coordinate system, you can check this [link](https://en.wikipedia.org/wiki/Cartesian_coordinate_system). \n",
    "\n",
    "## Tools\n",
    "You don't necessarily need to use all the tools. Maybe you opt to use some of them or completely different ones, they are given to help you shape the exercise. Programming exercises can be solved in many different ways.\n",
    "* Data structures: **lists, sets, tuples**\n",
    "* Conditional statements: **if-elif-else**\n",
    "* Loop: **while/for**\n",
    "* Minimum (optional sorting)\n",
    "\n",
    "## Tasks\n",
    "Robin Hood has hit the following points:"
   ]
  },
  {
   "cell_type": "code",
   "execution_count": 1,
   "metadata": {},
   "outputs": [],
   "source": [
    "points = [(4, 5), (-0, 2), (4, 7), (1, -3), (3, -2), (4, 5), (3, 2), (5, 7), (-5, 7), (2, 2), (-4, 5), (0, -2),\n",
    "          (-4, 7), (-1, 3), (-3, 2), (-4, -5), (-3, 2), (5, 7), (5, 7), (2, 2), (9, 9), (-8, -9)]"
   ]
  },
  {
   "cell_type": "markdown",
   "metadata": {},
   "source": [
    "#### 1. Robin Hood is famous for hitting an arrow with another arrow. Find the coordinates of the points where an arrow hits another arrow."
   ]
  },
  {
   "cell_type": "code",
   "execution_count": 2,
   "metadata": {},
   "outputs": [
    {
     "name": "stdout",
     "output_type": "stream",
     "text": [
      "[(4, 5), (4, 5), (5, 7), (2, 2), (-3, 2), (-3, 2), (5, 7), (5, 7), (2, 2)]\n"
     ]
    }
   ],
   "source": [
    "\n",
    "duplicados =[]\n",
    "for i in points:\n",
    "    tiro_dup = points.count(i)\n",
    "    #print(tiro_dup)\n",
    "    if tiro_dup>1:\n",
    "        duplicados.append(i)\n",
    "\n",
    "print(duplicados)"
   ]
  },
  {
   "cell_type": "markdown",
   "metadata": {
    "heading_collapsed": true
   },
   "source": [
    "#### 2. Calculate how many arrows have fallen in each quadrant. \n",
    "**Note**: the arrows that fall in the axis (x=0 or y=0) don't belong to any quadrant."
   ]
  },
  {
   "cell_type": "code",
   "execution_count": 3,
   "metadata": {
    "hidden": true
   },
   "outputs": [
    {
     "name": "stdout",
     "output_type": "stream",
     "text": [
      "Total de tiros en el Q1: 10\n",
      "Total de tiros en el Q2: 6\n",
      "Total de tiros en el Q3: 2\n",
      "Total de tiros en el Q4: 2\n",
      "Total de tiros sin cuadrante: 2\n"
     ]
    }
   ],
   "source": [
    "#Q1 +,+ \n",
    "#Q2 -,+\n",
    "#Q3 -,- \n",
    "#Q4 +,-\n",
    "\n",
    "Q1 = 0\n",
    "Q2 = 0\n",
    "Q3 = 0\n",
    "Q4 = 0\n",
    "No_Cuadrante = 0\n",
    "coordenadas = len(points)\n",
    "\n",
    "for i in points[:coordenadas]:\n",
    "    tiro = i\n",
    "    #coordenada= len(tiro)\n",
    "    #print(tiro)\n",
    "    x = tiro[0]\n",
    "    y = tiro[1]\n",
    "    #print(tiro)\n",
    "    if x > 0 and y > 0:\n",
    "        #print(tiro,\"Q1\")\n",
    "        Q1 +=1\n",
    "    elif x < 0 and y < 0:\n",
    "        #print(tiro,\"Q3\")\n",
    "        Q3 +=1\n",
    "    elif x < 0 and y > 0:\n",
    "        #print(tiro,\"Q2\")\n",
    "        Q2 +=1\n",
    "    elif x > 0 and y < 0:\n",
    "        #print(tiro,\"Q4\")\n",
    "        Q4 +=1\n",
    "    elif x == 0 or y == 0:\n",
    "        #print(tiro,\"Sin Cuadrante\")\n",
    "        No_Cuadrante +=1\n",
    "\n",
    "print(\"Total de tiros en el Q1:\",Q1)\n",
    "print(\"Total de tiros en el Q2:\",Q2)\n",
    "print(\"Total de tiros en el Q3:\",Q3)\n",
    "print(\"Total de tiros en el Q4:\",Q4)\n",
    "print(\"Total de tiros sin cuadrante:\",No_Cuadrante)"
   ]
  },
  {
   "cell_type": "markdown",
   "metadata": {},
   "source": [
    "#### 3. Find the point closest to the center. Calculate its distance to the center. \n",
    "Take into account that there might be more than one point at the minimum distance to the center.\n",
    "\n",
    "**Hint**: Use the Euclidean distance. You can find more information about it [here](https://en.wikipedia.org/wiki/Euclidean_distance).  \n",
    "**Hint**: Defining a function that calculates the distance to the center can help."
   ]
  },
  {
   "cell_type": "code",
   "execution_count": 4,
   "metadata": {
    "scrolled": true
   },
   "outputs": [
    {
     "name": "stdout",
     "output_type": "stream",
     "text": [
      "La distancia minima es: 2.0\n",
      "El numero de flechas mas cercanas es: 2\n"
     ]
    }
   ],
   "source": [
    "# Encontrar el punto mas cercano al centro. bucle for para ir calculando la distancia de cada punto respecto del (0,0)\n",
    "# Formula para calcular la distancia: d= raiz( (x2-x1)^2 + (y2-y1)^2 )\n",
    "# Hay que hacer una funcion para que se realice la formula en cada interaccion del ciclo for\n",
    "\n",
    "from math import sqrt\n",
    "\n",
    "distancias = []\n",
    "centro = (0,0)\n",
    "\n",
    "def distancia(centro,punto2): \n",
    "    x1=centro[0]\n",
    "    x2=punto2[0]\n",
    "    y1=centro[1]\n",
    "    y2=punto2[1]\n",
    "    return sqrt(((x2 -x1)**2) + ((y2-y1)**2))\n",
    "\n",
    "\n",
    "for i in points:\n",
    "    punto2 = i\n",
    "    dist_centro = distancia(centro,punto2)\n",
    "    #print(punto2,\"a Distancia:\",dist_centro)\n",
    "    distancias.append(dist_centro)\n",
    "\n",
    "minimo = min(distancias)\n",
    "flechas_cercanas = 0\n",
    "\n",
    "for i in distancias:\n",
    "    if i == minimo:\n",
    "        flechas_cercanas +=1\n",
    "\n",
    "#print(distancias)\n",
    "print(\"La distancia minima es:\",minimo)\n",
    "print(\"El numero de flechas mas cercanas es:\",flechas_cercanas)"
   ]
  },
  {
   "cell_type": "markdown",
   "metadata": {},
   "source": [
    "#### 4. If the archery target has a radius of 9, calculate the number of arrows that won't hit the target. \n",
    "**Hint**: Use the function created in step 3. "
   ]
  },
  {
   "cell_type": "code",
   "execution_count": 5,
   "metadata": {},
   "outputs": [
    {
     "name": "stdout",
     "output_type": "stream",
     "text": [
      "Tiro mas lejano: 12.727922061357855\n",
      "Tiros fuera de blanco: 2\n"
     ]
    }
   ],
   "source": [
    "fuera_de_blanco = 0\n",
    "\n",
    "for i in points:\n",
    "    punto2 = i\n",
    "    dist_centro = distancia(centro,punto2)\n",
    "    #print(punto2,\"a Distancia:\",dist_centro)\n",
    "    if dist_centro > 9:\n",
    "        fuera_de_blanco +=1\n",
    "\n",
    "maximo = max(distancias)\n",
    "\n",
    "print(\"Tiro mas lejano:\",maximo)\n",
    "print(\"Tiros fuera de blanco:\",fuera_de_blanco)"
   ]
  }
 ],
 "metadata": {
  "kernelspec": {
   "display_name": "Python 3",
   "language": "python",
   "name": "python3"
  },
  "language_info": {
   "codemirror_mode": {
    "name": "ipython",
    "version": 3
   },
   "file_extension": ".py",
   "mimetype": "text/x-python",
   "name": "python",
   "nbconvert_exporter": "python",
   "pygments_lexer": "ipython3",
   "version": "3.7.6"
  },
  "toc": {
   "base_numbering": 1,
   "nav_menu": {},
   "number_sections": true,
   "sideBar": true,
   "skip_h1_title": false,
   "title_cell": "Table of Contents",
   "title_sidebar": "Contents",
   "toc_cell": false,
   "toc_position": {},
   "toc_section_display": true,
   "toc_window_display": false
  }
 },
 "nbformat": 4,
 "nbformat_minor": 2
}
